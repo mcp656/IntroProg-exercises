{
 "cells": [
  {
   "cell_type": "markdown",
   "metadata": {},
   "source": [
    "# Problem set 1: Solving the consumer problem"
   ]
  },
  {
   "cell_type": "markdown",
   "metadata": {},
   "source": [
    "In this first problem set, we will take a look at solving the canonical utility maximization problem for the consumer.  "
   ]
  },
  {
   "cell_type": "markdown",
   "metadata": {},
   "source": [
    "**Problem set structure:** \n",
    "* Each problem set consists of tasks and problems. _Tasks_ train you in using specific techniques, while _problems_ train you in solving actual economic problems. \n",
    "* Each problem set also contains solutions, which can be found in separate Python files.\n",
    "* The Python files `A[..].py` do not run out of the box. But you can copy the code into your notebook or user module. \n",
    "* *You should really try to solve the tasks and problems on your own before looking at the answers!* \n",
    "* You goal should, however, not be to write everything from scratch. \n",
    "* Finding similar code from the lectures and adjusting it is completely ok. I rarely begin  completely from scratch, I figure out when I last did something similar and copy in the code to begin with. A quick peak at the solution, and then trying to write the solution yourself is also a very beneficial approach."
   ]
  },
  {
   "cell_type": "markdown",
   "metadata": {},
   "source": [
    "**Multiple solutions:** Within the field of numerical analysis there is often many more than one way of solving a specific problem. So the solution provided is just one example. If you get the same result, but use another approach, that might be just as good (or even better)."
   ]
  },
  {
   "cell_type": "markdown",
   "metadata": {},
   "source": [
    "**Extra problems:** Solutions to the extra problems are not provided, but we encourage you to take a look at them if you have the time."
   ]
  },
  {
   "cell_type": "markdown",
   "metadata": {},
   "source": [
    "# Tasks"
   ]
  },
  {
   "cell_type": "markdown",
   "metadata": {},
   "source": [
    "## Functions"
   ]
  },
  {
   "cell_type": "markdown",
   "metadata": {},
   "source": [
    "Implement a Python version of this function:"
   ]
  },
  {
   "cell_type": "markdown",
   "metadata": {},
   "source": [
    "$$ \n",
    "u(x_1,x_2) = (\\alpha x_1^{-\\beta} + (1-\\alpha) x_2^{-\\beta})^{-1/\\beta} \n",
    "$$"
   ]
  },
  {
   "cell_type": "markdown",
   "metadata": {},
   "source": [
    "**Answer:**"
   ]
  },
  {
   "cell_type": "markdown",
   "metadata": {},
   "source": [
    "I implement the above function with $x_1$ and $x_2$ as positional arguments and $\\alpha$ and $\\beta$ as keyword arguments (fixed)."
   ]
  },
  {
   "cell_type": "code",
   "execution_count": 1,
   "metadata": {},
   "outputs": [],
   "source": [
    "#  Define the function\n",
    "def u(x1, x2, alpha = 0.5, beta = 1):\n",
    "\n",
    "    # Return the output\n",
    "    return (alpha*x1**(-beta) + (1-alpha)*x2**(-beta))**(-1/beta)"
   ]
  },
  {
   "cell_type": "markdown",
   "metadata": {},
   "source": [
    "## Print"
   ]
  },
  {
   "cell_type": "code",
   "execution_count": 2,
   "metadata": {},
   "outputs": [],
   "source": [
    "# Define two vectors of values for x1 and x2\n",
    "x1_vec = [1.05,1.3,2.3,2.5,3.1]\n",
    "\n",
    "x2_vec = [1.05,1.3,2.3,2.5,3.1]"
   ]
  },
  {
   "cell_type": "markdown",
   "metadata": {},
   "source": [
    "Construct a Python function `print_table(x1_vec,x2_vec)` to print values of `u(x1,x2)` in the table form shown below."
   ]
  },
  {
   "cell_type": "markdown",
   "metadata": {},
   "source": [
    "**Answer:**"
   ]
  },
  {
   "cell_type": "code",
   "execution_count": 3,
   "metadata": {},
   "outputs": [
    {
     "name": "stdout",
     "output_type": "stream",
     "text": [
      "        0     1     2     3     4\n",
      "  0 1.050 1.162 1.442 1.479 1.569\n",
      "  1 1.162 1.300 1.661 1.711 1.832\n",
      "  2 1.442 1.661 2.300 2.396 2.641\n",
      "  3 1.479 1.711 2.396 2.500 2.768\n",
      "  4 1.569 1.832 2.641 2.768 3.100\n"
     ]
    }
   ],
   "source": [
    "def print_table(x1_vec,x2_vec):\n",
    "    \n",
    "    ## a. Empty text\n",
    "\n",
    "    # Define a string variable 'text'\n",
    "    text = ''\n",
    "    \n",
    "    ## b. Top header\n",
    "\n",
    "    # Add 3 left-hand (LH) spaces to 'text'\n",
    "    text += f'{\"\":3s}'\n",
    "\n",
    "    # Create top header\n",
    "    for j, x2 in enumerate(x2_vec):\n",
    "      # Add j = 0, 1, 2, 3, 4 and 6 LH spaces\n",
    "       text += f'{j:6d}'\n",
    "    # Create a new line\n",
    "    text += '\\n'\n",
    "    \n",
    "    # c. Body\n",
    "    for i, x1 in enumerate(x1_vec):\n",
    "      # If i > 0 create a new line\n",
    "      if i > 0:\n",
    "        text += '\\n'\n",
    "      # Add i = 0, 1, 2, 3, 4  and 3 LH spaces  \n",
    "      text += f'{i:3d}'\n",
    "      \n",
    "      # Add the function values\n",
    "      for j, x2 in enumerate(x2_vec):\n",
    "        text += f'{u(x1,x2):6.3f}'\n",
    "\n",
    "    # d. Print\n",
    "    print(text) \n",
    "\n",
    "print_table(x1_vec,x2_vec)"
   ]
  },
  {
   "cell_type": "markdown",
   "metadata": {},
   "source": [
    "## Matplotlib"
   ]
  },
  {
   "cell_type": "markdown",
   "metadata": {},
   "source": [
    "Reproduce the figure below of $u(x_1,x_2)$ using the `meshgrid` function from _numpy_ and the `plot_surface` function from _matplotlib_. "
   ]
  },
  {
   "cell_type": "markdown",
   "metadata": {},
   "source": [
    "**Answer:**"
   ]
  },
  {
   "cell_type": "markdown",
   "metadata": {},
   "source": [
    "Since `seaborn-whitegrid` is depreciated I use `'seaborn-v0_8-notebook`. \n",
    "\n",
    "To view a list of styles use `print(plt.style.available)`."
   ]
  },
  {
   "cell_type": "code",
   "execution_count": 4,
   "metadata": {},
   "outputs": [],
   "source": [
    "## import plot modules\n",
    "import numpy as np\n",
    "\n",
    "# Display plots directly in the Jupyter notebook\n",
    "%matplotlib inline\n",
    "\n",
    "import matplotlib.pyplot as plt\n",
    "plt.style.use('seaborn-v0_8-notebook')\n",
    "\n",
    "from mpl_toolkits.mplot3d import Axes3D\n",
    "\n",
    "# Import colormaps\n",
    "from matplotlib import cm"
   ]
  },
  {
   "cell_type": "markdown",
   "metadata": {},
   "source": [
    "List of styles:"
   ]
  },
  {
   "cell_type": "code",
   "execution_count": 5,
   "metadata": {},
   "outputs": [],
   "source": [
    "# print(plt.style.available)"
   ]
  },
  {
   "cell_type": "code",
   "execution_count": 6,
   "metadata": {},
   "outputs": [
    {
     "data": {
      "image/png": "[encoded data removed]",
      "text/plain": [
       "<Figure size 800x550 with 1 Axes>"
      ]
     },
     "metadata": {},
     "output_type": "display_data"
    }
   ],
   "source": [
    "# Evaluate the utility function\n",
    "x1_grid, x2_grid = np.meshgrid(x1_vec, x2_vec, indexing='ij')\n",
    "u_grid = u(x1_grid, x2_grid)\n",
    "\n",
    "# Create figure \n",
    "fig = plt.figure()\n",
    "\n",
    "# Add subplot with 1 row, 1 column, 1 index and with 3d projection\n",
    "ax = fig.add_subplot(1, 1, 1, projection='3d')\n",
    "\n",
    "# Add values of x1, x2 and u to the plot with a colormap\n",
    "ax.plot_surface(x1_grid, x2_grid, u_grid, cmap = cm.coolwarm)\n",
    "\n",
    "# Add labels to the plot\n",
    "ax.set_xlabel('$x_1$')\n",
    "ax.set_ylabel('$x_2$')\n",
    "ax.set_zlabel('$u(x_1,x_2)$')\n",
    "\n",
    "# Invert axis\n",
    "ax.invert_xaxis()\n",
    "\n",
    "# Show plot\n",
    "plt.show();"
   ]
  },
  {
   "cell_type": "markdown",
   "metadata": {},
   "source": [
    "## Optimize"
   ]
  },
  {
   "cell_type": "markdown",
   "metadata": {},
   "source": [
    "Consider the following minimization problem:\n",
    "\n",
    "$$\n",
    "\\min_x  f(x) = \\min_x \\sin(x) + 0.05 \\cdot x^2\n",
    "$$"
   ]
  },
  {
   "cell_type": "markdown",
   "metadata": {},
   "source": [
    "Solve this problem and illustrate your results."
   ]
  },
  {
   "cell_type": "markdown",
   "metadata": {},
   "source": [
    "**Answer:**"
   ]
  },
  {
   "cell_type": "markdown",
   "metadata": {},
   "source": [
    "Solution using grid-search:"
   ]
  },
  {
   "cell_type": "code",
   "execution_count": 7,
   "metadata": {},
   "outputs": [
    {
     "name": "stdout",
     "output_type": "stream",
     "text": [
      "The optimal solution given the grid-search is x = -1.515 such that f(x) = -0.884\n"
     ]
    }
   ],
   "source": [
    "import numpy as np\n",
    "\n",
    "## a. Define the function\n",
    "def f(x):\n",
    "    # Use numpy for sin function\n",
    "    return np.sin(x) + 0.05*x**2\n",
    "\n",
    "## b. Find the solution by using a loop\n",
    "\n",
    "# Define a variable for the size of the array - adjust for a more precise solution\n",
    "N = 100\n",
    "\n",
    "# Create a numpy-array with size N\n",
    "x_vec = np.linspace(-10, 10, N)\n",
    "\n",
    "# Create a empty numpy-array with size N\n",
    "f_vec = np.empty(N)\n",
    "\n",
    "## Create variables to initialize and store solutions\n",
    "# Initial maximum function value\n",
    "f_best = np.inf\n",
    "\n",
    "# Initial x value nan = 'not-a-number'\n",
    "x_best = np.nan\n",
    "\n",
    "# Create a grid-search\n",
    "for i, x in enumerate(x_vec):\n",
    "    # Initialize the search and add the current solution to f_vec\n",
    "    f_now = f_vec[i] = f(x)\n",
    "\n",
    "    # If the inequality is met update x_best and f_best\n",
    "    if f_now < f_best: \n",
    "        x_best = x\n",
    "        f_best = f_now\n",
    "\n",
    "## d. Print\n",
    "print(f'The optimal solution given the grid-search is x = {x_best:.3f} such that f(x) = {f_best:.3f}')\n"
   ]
  },
  {
   "cell_type": "markdown",
   "metadata": {},
   "source": [
    "Solution using scipy optimize:"
   ]
  },
  {
   "cell_type": "code",
   "execution_count": 8,
   "metadata": {},
   "outputs": [
    {
     "name": "stdout",
     "output_type": "stream",
     "text": [
      "The optimal solution given the optimizer is x = -1.428 such that f(x) = -0.888\n"
     ]
    }
   ],
   "source": [
    "## c. Solution using scipy optimize\n",
    "from scipy import optimize\n",
    "\n",
    "# Set initial guess\n",
    "x_guess = 0 \n",
    "\n",
    "# Set objective function\n",
    "objective_function = lambda x: f(x)\n",
    "\n",
    "# Find the result by using scipy optimize. Default method is BFGS (a type of Newton-Raphson algorithm).\n",
    "res = optimize.minimize(objective_function, x0 = x_guess, method = 'BFGS')\n",
    "\n",
    "## Create variables to store the result\n",
    "# Result for x\n",
    "x_best_scipy = res.x[0] # x[i] where i is 0 for one variable and 1, 2, 3...N for more\n",
    "\n",
    "# Result for the function value given x\n",
    "f_best_scipy = res.fun\n",
    "\n",
    "## d. print\n",
    "print(f'The optimal solution given the optimizer is x = {x_best_scipy:.3f} such that f(x) = {f_best_scipy:.3f}')"
   ]
  },
  {
   "cell_type": "markdown",
   "metadata": {},
   "source": [
    "Create figure:"
   ]
  },
  {
   "cell_type": "code",
   "execution_count": 9,
   "metadata": {},
   "outputs": [
    {
     "data": {
      "image/png": "[encoded data removed]",
      "text/plain": [
       "<Figure size 800x550 with 1 Axes>"
      ]
     },
     "metadata": {},
     "output_type": "display_data"
    }
   ],
   "source": [
    "## e. Figure\n",
    "import matplotlib.pyplot as plt\n",
    "\n",
    "# Create figure\n",
    "fig = plt.figure()\n",
    "\n",
    "# Add subplot with 1 row, 1 column and 1 index\n",
    "ax = fig.add_subplot(1, 1, 1)\n",
    "\n",
    "# Add values of x1 and x2 the plot\n",
    "ax.plot(x_vec, f_vec, '--', color = 'blue', label = '$f(x)$') \n",
    "\n",
    "## Add solutions to the plot\n",
    "# Grid-search solution\n",
    "ax.plot(x_best, f_best, 'o', markersize = 8, color ='red', label = 'grid-search')\n",
    "\n",
    "# optimizer solution\n",
    "ax.plot(x_best_scipy, f_best_scipy, 'v', markersize = 8, color ='green', label = 'optimizer')\n",
    "\n",
    "# Add labels to the plot\n",
    "ax.set_xlabel('$x$')\n",
    "ax.set_ylabel('$f(x)$')\n",
    "\n",
    "# Add grid and legend to the plot\n",
    "ax.grid(True)\n",
    "ax.legend(loc='upper right')\n",
    "\n",
    "# Show plot\n",
    "plt.show();\n"
   ]
  },
  {
   "cell_type": "markdown",
   "metadata": {},
   "source": [
    "# Problem"
   ]
  },
  {
   "cell_type": "markdown",
   "metadata": {},
   "source": [
    "Consider the following $M$-good, $x=(x_1,x_2,\\dots,x_M)$, **utility maximization problem** with exogenous income $I$, and price-vector $p=(p_1,p_2,\\dots,p_M)$,\n",
    "\n",
    "$$\n",
    "\\begin{aligned}\n",
    "V(p_{1},p_{2},\\dots,,p_{M},I) & = \\max_{x_{1},x_{2},\\dots,x_M} x_{1}^{\\alpha_1} x_{2}^{\\alpha_2} \\dots x_{M}^{\\alpha_M} \\\\\n",
    " & \\text{s.t.}\\\\\n",
    "E & = \\sum_{i=1}^{M}p_{i}x_{i} \\leq I,\\,\\,\\,p_{1},p_{2},\\dots,p_M,I>0\\\\\n",
    "x_{1},x_{2},\\dots,x_M & \\geq 0\n",
    "\\end{aligned}\n",
    "$$"
   ]
  },
  {
   "cell_type": "markdown",
   "metadata": {},
   "source": [
    "**Problem:** Solve the 5-good utility maximization problem for arbitrary preference parameters, $ \\alpha = (\\alpha_1,\\alpha_2,\\dots,\\alpha_5)$, prices and income. First, with a loop, and then with a numerical optimizer."
   ]
  },
  {
   "cell_type": "markdown",
   "metadata": {},
   "source": [
    "You can use the following functions:"
   ]
  },
  {
   "cell_type": "code",
   "execution_count": 10,
   "metadata": {},
   "outputs": [],
   "source": [
    "def utility_function(x,alpha):\n",
    "    u = 1\n",
    "    for x_now,alpha_now in zip(x,alpha):\n",
    "        u *= np.max(x_now,0)**alpha_now\n",
    "    return u\n",
    "    \n",
    "def expenditures(x,p):\n",
    "    E = 0\n",
    "    for x_now,p_now in zip(x,p):\n",
    "        E += p_now*x_now\n",
    "    return E\n",
    "\n",
    "def print_solution(x,alpha,I,p):    \n",
    "    # a. x values\n",
    "    text = 'x = ['\n",
    "    for x_now in x:\n",
    "        text += f'{x_now:.2f} '\n",
    "    text += f']\\n'\n",
    "    \n",
    "    # b. Utility\n",
    "    u = utility_function(x,alpha)    \n",
    "    text += f'utility = {u:.3f}\\n'\n",
    "    \n",
    "    # c. Expenditure vs. income\n",
    "    E =  expenditures(x,p)\n",
    "    text += f'E = {E:.2f} <= I = {I:.2f}\\n'\n",
    "    \n",
    "    # d. Expenditure shares\n",
    "    e = p*x/I\n",
    "    text += 'expenditure shares = ['\n",
    "    for e_now in e:\n",
    "        text += f'{e_now:.2f} '\n",
    "    text += f']'        \n",
    "        \n",
    "    print(text)"
   ]
  },
  {
   "cell_type": "markdown",
   "metadata": {},
   "source": [
    "You can initially use the following parameter choices:"
   ]
  },
  {
   "cell_type": "code",
   "execution_count": 11,
   "metadata": {},
   "outputs": [],
   "source": [
    "alpha = np.ones(5)/5\n",
    "p = np.array([1,2,3,4,5])\n",
    "I = 10"
   ]
  },
  {
   "cell_type": "markdown",
   "metadata": {},
   "source": [
    "## Solutions using loops"
   ]
  },
  {
   "cell_type": "markdown",
   "metadata": {},
   "source": [
    "**Answer:**"
   ]
  },
  {
   "cell_type": "markdown",
   "metadata": {},
   "source": [
    "Solving with a loop:"
   ]
  },
  {
   "cell_type": "code",
   "execution_count": 12,
   "metadata": {},
   "outputs": [
    {
     "name": "stdout",
     "output_type": "stream",
     "text": [
      "x = [2.14 1.07 0.71 0.36 0.43 ]\n",
      "utility = 0.758\n",
      "E = 10.00 <= I = 10.00\n",
      "expenditure shares = [0.21 0.21 0.21 0.14 0.21 ]\n"
     ]
    }
   ],
   "source": [
    "# Set the number of points in each dimension\n",
    "N = 15\n",
    "\n",
    "# Create a numpy-array/vector with values between 0 and 1\n",
    "fac = np.linspace(0, 1, N)\n",
    "\n",
    "# Set maximum x\n",
    "x_max = I/p\n",
    "\n",
    "## Create variables to initialize and store solutions\n",
    "# Initial minimum function value\n",
    "u_best = -np.inf\n",
    "\n",
    "# Initial x values/empty array\n",
    "x_best = np.empty(5)\n",
    "\n",
    "# Solve using a loop\n",
    "for x1 in fac:\n",
    "   for x2 in fac:\n",
    "        for x3 in fac:\n",
    "            for x4 in fac:\n",
    "                for x5 in fac:\n",
    "                    # Define x and expenditures\n",
    "                    x = np.array([x1,x2,x3,x4,x5])*x_max\n",
    "                    E = expenditures(x,p)\n",
    "                    # If the expenditures are less than income evaluate the utility\n",
    "                    if E <= I:\n",
    "                        u_now = utility_function(x,alpha)\n",
    "                        # If the inequality is met update x_best and u_best\n",
    "                        if u_now > u_best:\n",
    "                            x_best = x\n",
    "                            u_best = u_now\n",
    "\n",
    "\n",
    "# Print the solution\n",
    "print_solution(x_best, alpha, I, p)"
   ]
  },
  {
   "cell_type": "markdown",
   "metadata": {},
   "source": [
    "Solving with itertools:"
   ]
  },
  {
   "cell_type": "code",
   "execution_count": 13,
   "metadata": {},
   "outputs": [
    {
     "name": "stdout",
     "output_type": "stream",
     "text": [
      "x = [2.14 1.07 0.71 0.36 0.43 ]\n",
      "utility = 0.758\n",
      "E = 10.00 <= I = 10.00\n",
      "expenditure shares = [0.21 0.21 0.21 0.14 0.21 ]\n"
     ]
    }
   ],
   "source": [
    "import itertools as it\n",
    "\n",
    "# Set the number of points in each dimension\n",
    "N = 15\n",
    "\n",
    "# Create a numpy-array/vector with values between 0 and 1\n",
    "fac = np.linspace(0, 1, N)\n",
    "\n",
    "# Set maximum x\n",
    "x_max = I/p\n",
    "\n",
    "## Create variables to initialize and store solutions\n",
    "# Initial minimum function value\n",
    "u_best = -np.inf\n",
    "\n",
    "# Initial x values/empty array\n",
    "x_best = np.empty(5)\n",
    "\n",
    "# For x in the cartesian product (all combinations) of the linear spaces \n",
    "for x in it.product(fac, fac, fac, fac, fac):\n",
    "    # Define x and expenditures\n",
    "    x *= x_max\n",
    "    E = expenditures(x,p)\n",
    "    if E <= I:\n",
    "        u_now = utility_function(x,alpha)\n",
    "        # If the inequality is met update x_best and u_best\n",
    "        if u_now > u_best:\n",
    "            x_best = x\n",
    "            u_best = u_now\n",
    "\n",
    "# Print the solution\n",
    "print_solution(x_best, alpha, I, p)"
   ]
  },
  {
   "cell_type": "markdown",
   "metadata": {},
   "source": [
    "## Solutions using solvers"
   ]
  },
  {
   "cell_type": "markdown",
   "metadata": {},
   "source": [
    "Solving with a constrained optimizer:"
   ]
  },
  {
   "cell_type": "code",
   "execution_count": 14,
   "metadata": {},
   "outputs": [
    {
     "name": "stdout",
     "output_type": "stream",
     "text": [
      "Optimization terminated successfully\n",
      "x = [2.00 1.00 0.67 0.50 0.40 ]\n",
      "utility = 0.768\n",
      "E = 10.00 <= I = 10.00\n",
      "expenditure shares = [0.20 0.20 0.20 0.20 0.20 ]\n"
     ]
    }
   ],
   "source": [
    "from scipy import optimize\n",
    "\n",
    "## a. Constraints, bounds and initial guess\n",
    "# Set constraints\n",
    "constraints = ({'type': 'ineq', 'fun': lambda x: I-expenditures(x,p)})\n",
    "\n",
    "# Set bounds\n",
    "bounds = [(0, I/p_now) for p_now in p]\n",
    "\n",
    "# Set a feasible initial guess\n",
    "initial_guess = (I/p)/6\n",
    "\n",
    "## b. Call optimizer and check if terminated correctly \n",
    "# Call optimizer\n",
    "res = optimize.minimize(lambda x: -utility_function(x, alpha), x0=initial_guess,\n",
    "                        method = 'SLSQP', bounds = bounds, constraints = constraints)\n",
    "\n",
    "# Check termination\n",
    "print(res.message) # check that the solver has terminated correctly\n",
    "\n",
    "## c. Print result\n",
    "print_solution(res.x, alpha, I, p)"
   ]
  },
  {
   "cell_type": "markdown",
   "metadata": {},
   "source": [
    "Solving with an unconstrained optimizer:"
   ]
  },
  {
   "cell_type": "code",
   "execution_count": 15,
   "metadata": {},
   "outputs": [
    {
     "name": "stdout",
     "output_type": "stream",
     "text": [
      "Optimization terminated successfully.\n",
      "x = [2.00 1.00 0.67 0.50 0.40 ]\n",
      "utility = 0.768\n",
      "E = 10.00 <= I = 10.00\n",
      "expenditure shares = [0.20 0.20 0.20 0.20 0.20 ]\n"
     ]
    }
   ],
   "source": [
    "from scipy import optimize\n",
    "\n",
    "## a. Define the objective function\n",
    "def unconstrained_objective(x,alpha,I,p):\n",
    "    \n",
    "    # Set initial penalty to 0\n",
    "    penalty = 0\n",
    "\n",
    "    # Call expenditures\n",
    "    E = expenditures(x,p)\n",
    "\n",
    "    # Penalize if expenditures are more or equal to income\n",
    "    if E >= I:\n",
    "        ratio = I/E\n",
    "\n",
    "        # Decrease x\n",
    "        x *= ratio # now p*x = I\n",
    "\n",
    "        # Increase penalty\n",
    "        penalty = 1000*(E-I)**2\n",
    "    \n",
    "    # Call the utility function\n",
    "    u = utility_function(x,alpha)\n",
    "\n",
    "    # Return -u (minimization) + penalty (as we minimize)\n",
    "    return -u + penalty \n",
    "\n",
    "## b. Set a feasible initial guess\n",
    "initial_guess = (I/p)/6\n",
    "\n",
    "\n",
    "## c. Call optimizer and check if terminated correctly \n",
    "# Call optimizer with arguments (alpha, I and p), options: maximum iterations 5000, and tolerence 1e-10\n",
    "res = optimize.minimize(unconstrained_objective, x0 = initial_guess, method = 'Nelder-Mead',\n",
    "                        args = (alpha, I, p), options = {'maxiter': 5000}, tol = 1e-10)\n",
    "\n",
    "# Check termination\n",
    "print(res.message)\n",
    "\n",
    "## d. print result\n",
    "print_solution(res.x,alpha,I,p)   "
   ]
  }
 ],
 "metadata": {
  "kernelspec": {
   "display_name": "Python 3 (ipykernel)",
   "language": "python",
   "name": "python3"
  },
  "language_info": {
   "codemirror_mode": {
    "name": "ipython",
    "version": 3
   },
   "file_extension": ".py",
   "mimetype": "text/x-python",
   "name": "python",
   "nbconvert_exporter": "python",
   "pygments_lexer": "ipython3",
   "version": "3.9.16"
  },
  "toc-autonumbering": true
 },
 "nbformat": 4,
 "nbformat_minor": 4
}
