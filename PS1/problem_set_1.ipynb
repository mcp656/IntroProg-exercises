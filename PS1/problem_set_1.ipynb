{
 "cells": [
  {
   "cell_type": "markdown",
   "metadata": {},
   "source": [
    "# Problem set 1: Solving the consumer problem"
   ]
  },
  {
   "cell_type": "markdown",
   "metadata": {},
   "source": [
    "In this first problem set, we will take a look at solving the canonical utility maximization problem for the consumer.  "
   ]
  },
  {
   "cell_type": "markdown",
   "metadata": {},
   "source": [
    "**Problem set structure:** \n",
    "* Each problem set consists of tasks and problems. _Tasks_ train you in using specific techniques, while _problems_ train you in solving actual economic problems. \n",
    "* Each problem set also contains solutions, which can be found in separate Python files.\n",
    "* The Python files `A[..].py` do not run out of the box. But you can copy the code into your notebook or user module. \n",
    "* *You should really try to solve the tasks and problems on your own before looking at the answers!* \n",
    "* You goal should, however, not be to write everything from scratch. \n",
    "* Finding similar code from the lectures and adjusting it is completely ok. I rarely begin  completely from scratch, I figure out when I last did something similar and copy in the code to begin with. A quick peak at the solution, and then trying to write the solution yourself is also a very beneficial approach."
   ]
  },
  {
   "cell_type": "markdown",
   "metadata": {},
   "source": [
    "**Multiple solutions:** Within the field of numerical analysis there is often many more than one way of solving a specific problem. So the solution provided is just one example. If you get the same result, but use another approach, that might be just as good (or even better)."
   ]
  },
  {
   "cell_type": "markdown",
   "metadata": {},
   "source": [
    "**Extra problems:** Solutions to the extra problems are not provided, but we encourage you to take a look at them if you have the time."
   ]
  },
  {
   "cell_type": "markdown",
   "metadata": {},
   "source": [
    "# Tasks"
   ]
  },
  {
   "cell_type": "markdown",
   "metadata": {},
   "source": [
    "## functions"
   ]
  },
  {
   "cell_type": "markdown",
   "metadata": {},
   "source": [
    "Implement a Python version of this function:"
   ]
  },
  {
   "cell_type": "markdown",
   "metadata": {},
   "source": [
    "$$ \n",
    "u(x_1,x_2) = (\\alpha x_1^{-\\beta} + (1-\\alpha) x_2^{-\\beta})^{-1/\\beta} \n",
    "$$"
   ]
  },
  {
   "cell_type": "code",
   "execution_count": 1,
   "metadata": {},
   "outputs": [
    {
     "name": "stdout",
     "output_type": "stream",
     "text": [
      "jell\n"
     ]
    }
   ],
   "source": [
    "# Define the variables of the function\n",
    "def u(x1, x2, alpha = 0.5, beta = 1):\n",
    "    \n",
    "    # Return the function output\n",
    "    return (alpha*x1**(-beta) + (1-alpha)*x2**(-beta))**(-1/beta)"
   ]
  },
  {
   "cell_type": "markdown",
   "metadata": {},
   "source": [
    "**Answer:** see A1.py"
   ]
  },
  {
   "cell_type": "markdown",
   "metadata": {},
   "source": [
    "## print"
   ]
  },
  {
   "cell_type": "code",
   "execution_count": null,
   "metadata": {},
   "outputs": [],
   "source": [
    "# Define vectors for x1 and x2\n",
    "x1_vec = [1.05,1.3,2.3,2.5,3.1]\n",
    "x2_vec = [1.05,1.3,2.3,2.5,3.1]"
   ]
  },
  {
   "cell_type": "markdown",
   "metadata": {},
   "source": [
    "Construct a Python function `print_table(x1_vec,x2_vec)` to print values of `u(x1,x2)` in the table form shown below."
   ]
  },
  {
   "cell_type": "code",
   "execution_count": null,
   "metadata": {},
   "outputs": [],
   "source": [
    "def print_table(x1_vec,x2_vec):\n",
    "    \n",
    "    # a. Empty text\n",
    "    text = '' # Defines a string variable 'text'\n",
    "    \n",
    "    # b. Top header\n",
    "    text += f'{\"\":3s}' # Adds 3 initial spaces to the 'text' vairable\n",
    "    for j, x2 in enumerate(x2_vec):\n",
    "       text += f'{j:6d}' # Adds j with 6 spaces to its left\n",
    "    text += '\\n' # line shift\n",
    "    \n",
    "    # c. Body\n",
    "    for i, x1 in enumerate(x1_vec):\n",
    "      if i > 0:\n",
    "         text += f'\\n' # Adds a new line if i > 0 \n",
    "      text += f'{i:3d}' # Adds i with 3 spaces to its left\n",
    "      for j, x2 in enumerate (x2_vec):\n",
    "         text += f'{u(x1,x2):6.3f}'# Adds u with 6 spaces to its left and with 3 decimals\n",
    "    \n",
    "    # d. Print\n",
    "    print(text) \n",
    "\n",
    "print_table(x1_vec,x2_vec)"
   ]
  },
  {
   "cell_type": "markdown",
   "metadata": {},
   "source": [
    "**Answer:** see A2.py"
   ]
  },
  {
   "cell_type": "markdown",
   "metadata": {},
   "source": [
    "## matplotlib"
   ]
  },
  {
   "cell_type": "markdown",
   "metadata": {},
   "source": [
    "Reproduce the figure below of $u(x_1,x_2)$ using the `meshgrid` function from _numpy_ and the `plot_surface` function from _matplotlib_. "
   ]
  },
  {
   "cell_type": "code",
   "execution_count": null,
   "metadata": {},
   "outputs": [],
   "source": [
    "# import plot modules\n",
    "import numpy as np\n",
    "%matplotlib inline\n",
    "import matplotlib.pyplot as plt\n",
    "plt.style.use('seaborn-whitegrid')\n",
    "from mpl_toolkits.mplot3d import Axes3D\n",
    "from matplotlib import cm # for colormaps"
   ]
  },
  {
   "cell_type": "code",
   "execution_count": null,
   "metadata": {},
   "outputs": [],
   "source": [
    "# Evaluate utility function\n",
    "x1_grid,x2_grid = np.meshgrid(x1_vec,x2_vec,indexing='ij')\n",
    "u_grid = u(x1_grid,x2_grid)\n",
    "\n",
    "# Create figure and define figure size\n",
    "fig = plt.figure(figsize=(12,10))\n",
    "\n",
    "# Add axis\n",
    "ax = fig.add_subplot(1, 1, 1, projection='3d') # 1 row, 1 column, 1 index and with 3d projection\n",
    "\n",
    "# Add x1, x2 and u to the plot with a colormap\n",
    "ax.plot_surface(x1_grid, x2_grid, u_grid, cmap = cm.coolwarm)\n",
    "\n",
    "# Add labels\n",
    "ax.set_xlabel('$x_1$')\n",
    "ax.set_ylabel('$x_2$')\n",
    "ax.set_zlabel('$u(x_1,x_2)$')\n",
    "\n",
    "# Invert axis\n",
    "ax.invert_xaxis()\n",
    "\n",
    "# Ensure that all text are visible\n",
    "plt.tight_layout()\n"
   ]
  },
  {
   "cell_type": "markdown",
   "metadata": {},
   "source": [
    "**Answer:** see A3.py"
   ]
  },
  {
   "cell_type": "markdown",
   "metadata": {},
   "source": [
    "## optimize"
   ]
  },
  {
   "cell_type": "markdown",
   "metadata": {},
   "source": [
    "Consider the following minimization problem:\n",
    "\n",
    "$$\n",
    "\\min_x  f(x) = \\min_x \\sin(x) + 0.05 \\cdot x^2\n",
    "$$"
   ]
  },
  {
   "cell_type": "markdown",
   "metadata": {},
   "source": [
    "Solve this problem and illustrate your results."
   ]
  },
  {
   "cell_type": "code",
   "execution_count": null,
   "metadata": {},
   "outputs": [],
   "source": [
    "# update this code\n",
    "import numpy as np\n",
    "\n",
    "# a. define function\n",
    "def f(x):\n",
    "    return np.sin(x) + 0.05*x**2\n",
    "\n",
    "# b. solution using a loop\n",
    "N = 100 # Variable for the size of the array - adjust for a more precise solution at the expense of computing time\n",
    "x_vec = np.linspace(-10, 10, N) # Creates an numpy-array with size N\n",
    "f_vec = np.empty(N) # Empty numpy array\n",
    "\n",
    "f_best = np.inf # Initial maximum\n",
    "x_best = np.nan # Not-a-number\n",
    "\n",
    "for i, x in enumerate(x_vec):\n",
    "    f_now = f_vec[i] = f(x) # Initialize and create an numpy array of solutions \n",
    "    if f_now < f_best: # If the inequality is met update x_best and f_best\n",
    "        x_best = x\n",
    "        f_best = f_now\n",
    "\n",
    "# c. solution using scipy optimize\n",
    "from scipy import optimize\n",
    "\n",
    "# Set initial guess and objective function\n",
    "x_guess = 0 \n",
    "objective_function = lambda x: f(x)\n",
    "\n",
    "# Find the result by using BFGS which is the default optimizer\n",
    "res = optimize.minimize(objective_function, x0 = x_guess, method = 'BFGS')\n",
    "\n",
    "# Save the results\n",
    "x_best_scipy = res.x[0] # x[i] where i is 0 for one variable and 1, 2, 3...N for more\n",
    "f_best_scipy = res.fun # Result of the function\n",
    "\n",
    "\n",
    "# d. print\n",
    "print(f'The optimal solution given grid-solve is f(x) = {f_best:.3f} with x = {x_best:.3f}')\n",
    "print(f'The optimal solution given the optimizer is f(x) = {f_best_scipy:.3f} with x = {x_best_scipy:.3f}')\n",
    "\n",
    "\n",
    "# e. figure\n",
    "import matplotlib.pyplot as plt\n",
    "\n",
    "# Create figure and define figure size\n",
    "fig = plt.figure(figsize=(12,10))\n",
    "\n",
    "# Add axis\n",
    "ax = fig.add_subplot(1, 1, 1) # 1 row, 1 column and 1 index\n",
    "\n",
    "# Add variables to the plot\n",
    "ax.plot(x_vec, f_vec, '--', color = 'blue', label = '$$') \n",
    "\n",
    "# Add solutions to the plot\n",
    "ax.plot(x_best, f_best, 'o', color ='red')\n",
    "\n",
    "ax.plot(x_best_scipy, f_best_scipy, 'x', color ='green')\n",
    "\n",
    "# Layout\n",
    "ax.set_xlabel('$x$')\n",
    "ax.set_ylabel('$f(x)$')\n",
    "ax.grid(True)\n",
    "ax.legend(loc='upper center');\n",
    "\n",
    "\n",
    "ax.plot(x_vec,f_vec,ls='--',lw=2,color='black',label='$f(x)$')\n",
    "ax.plot(x_best,f_best,ls='',marker='s',color='blue',label='loop')\n",
    "ax.plot(x_best_scipy,f_best_scipy,ls='',marker='o',\n",
    "        markersize=10,markerfacecolor='none',\n",
    "        markeredgecolor='red',label='scipy.optimize')\n"
   ]
  },
  {
   "cell_type": "markdown",
   "metadata": {},
   "source": [
    "**Answer:** see A4.py"
   ]
  },
  {
   "cell_type": "markdown",
   "metadata": {},
   "source": [
    "# Problem"
   ]
  },
  {
   "cell_type": "markdown",
   "metadata": {},
   "source": [
    "Consider the following $M$-good, $x=(x_1,x_2,\\dots,x_M)$, **utility maximization problem** with exogenous income $I$, and price-vector $p=(p_1,p_2,\\dots,p_M)$,\n",
    "\n",
    "$$\n",
    "\\begin{aligned}\n",
    "V(p_{1},p_{2},\\dots,,p_{M},I) & = \\max_{x_{1},x_{2},\\dots,x_M} x_{1}^{\\alpha_1} x_{2}^{\\alpha_2} \\dots x_{M}^{\\alpha_M} \\\\\n",
    " & \\text{s.t.}\\\\\n",
    "E & = \\sum_{i=1}^{M}p_{i}x_{i} \\leq I,\\,\\,\\,p_{1},p_{2},\\dots,p_M,I>0\\\\\n",
    "x_{1},x_{2},\\dots,x_M & \\geq 0\n",
    "\\end{aligned}\n",
    "$$"
   ]
  },
  {
   "cell_type": "markdown",
   "metadata": {},
   "source": [
    "**Problem:** Solve the 5-good utility maximization problem for arbitrary preference parameters, $ \\alpha = (\\alpha_1,\\alpha_2,\\dots,\\alpha_5)$, prices and income. First, with a loop, and then with a numerical optimizer."
   ]
  },
  {
   "cell_type": "markdown",
   "metadata": {},
   "source": [
    "You can use the following functions:"
   ]
  },
  {
   "cell_type": "code",
   "execution_count": null,
   "metadata": {},
   "outputs": [],
   "source": [
    "def utility_function(x,alpha):\n",
    "    # ensure you understand what this function is doing\n",
    "\n",
    "    u = 1\n",
    "    for x_now,alpha_now in zip(x,alpha):\n",
    "        u *= np.max(x_now,0)**alpha_now\n",
    "    return u\n",
    "    \n",
    "def expenditures(x,p):\n",
    "    # ensure you understand what this function is doing\n",
    "\n",
    "    E = 0\n",
    "    for x_now,p_now in zip(x,p):\n",
    "        E += p_now*x_now\n",
    "    return E\n",
    "\n",
    "def print_solution(x,alpha,I,p):\n",
    "    # you can just use this function\n",
    "    \n",
    "    # a. x values\n",
    "    text = 'x = ['\n",
    "    for x_now in x:\n",
    "        text += f'{x_now:.2f} '\n",
    "    text += f']\\n'\n",
    "    \n",
    "    # b. utility\n",
    "    u = utility_function(x,alpha)    \n",
    "    text += f'utility = {u:.3f}\\n'\n",
    "    \n",
    "    # c. expenditure vs. income\n",
    "    E =  expenditures(x,p)\n",
    "    text += f'E = {E:.2f} <= I = {I:.2f}\\n'\n",
    "    \n",
    "    # d. expenditure shares\n",
    "    e = p*x/I\n",
    "    text += 'expenditure shares = ['\n",
    "    for e_now in e:\n",
    "        text += f'{e_now:.2f} '\n",
    "    text += f']'        \n",
    "        \n",
    "    print(text)"
   ]
  },
  {
   "cell_type": "markdown",
   "metadata": {},
   "source": [
    "You can initially use the following parameter choices:"
   ]
  },
  {
   "cell_type": "code",
   "execution_count": null,
   "metadata": {},
   "outputs": [],
   "source": [
    "alpha = np.ones(5)/5\n",
    "p = np.array([1,2,3,4,5])\n",
    "I = 10"
   ]
  },
  {
   "cell_type": "markdown",
   "metadata": {},
   "source": [
    "Solving with a loop:"
   ]
  },
  {
   "cell_type": "code",
   "execution_count": null,
   "metadata": {},
   "outputs": [],
   "source": [
    "# update this code\n",
    "\n",
    "N = 15 # number of points in each dimension\n",
    "fac = np.linspace(0,1,N) # vector betweein 0 and 1\n",
    "x_max = I/p # maximum x so E = I\n",
    "\n",
    "# missing lines\n",
    "for x1 in fac:\n",
    "   for x2 in fac:\n",
    "        for x3 in fac:\n",
    "            for x4 in fac:\n",
    "                for x5 in fac:\n",
    "                    x = np.array([x1,x2,x3,x4,x5])*x_max\n",
    "                    E = expenditures(x,p)\n",
    "                    if E <= I:\n",
    "                        u_now = utility_function(x,alpha)\n",
    "                        # misssing lines\n",
    "\n",
    "# print_solution(x_best,alpha,I,p)"
   ]
  },
  {
   "cell_type": "markdown",
   "metadata": {},
   "source": [
    "> **Extra:** The above code can be written nicer with the ``product`` function from ``itertools``."
   ]
  },
  {
   "cell_type": "markdown",
   "metadata": {},
   "source": [
    "Solving with a numerical optimizer:"
   ]
  },
  {
   "cell_type": "code",
   "execution_count": null,
   "metadata": {},
   "outputs": [],
   "source": [
    "# update this code\n",
    "\n",
    "from scipy import optimize\n",
    "\n",
    "# a. contraint function (negative if violated)\n",
    "# missing line, hint: constraints = ({'type': 'ineq', 'fun': lambda x: ?})\n",
    "# missing line, hint: bounds = [(?,?) for p_now in p]\n",
    "\n",
    "# b. call optimizer\n",
    "initial_guess = (I/p)/6 # some guess, should be feasible\n",
    "# missing line, hint: res = optimize.minimize(?,?,method='SLSQP',bounds=bounds,constraints=constraints)\n",
    "\n",
    "# print(res.message) # check that the solver has terminated correctly\n",
    "\n",
    "# c. print result\n",
    "# print_solution(res.x,alpha,I,p)"
   ]
  },
  {
   "cell_type": "markdown",
   "metadata": {},
   "source": [
    "## Solutions using loops"
   ]
  },
  {
   "cell_type": "markdown",
   "metadata": {},
   "source": [
    "Using **raw loops**:"
   ]
  },
  {
   "cell_type": "markdown",
   "metadata": {
    "tags": []
   },
   "source": [
    "See A5.py"
   ]
  },
  {
   "cell_type": "markdown",
   "metadata": {},
   "source": [
    "Using **smart itertools loop:**"
   ]
  },
  {
   "cell_type": "markdown",
   "metadata": {
    "tags": []
   },
   "source": [
    "see A6.py    "
   ]
  },
  {
   "cell_type": "markdown",
   "metadata": {},
   "source": [
    "## Solutions using solvers"
   ]
  },
  {
   "cell_type": "code",
   "execution_count": null,
   "metadata": {},
   "outputs": [],
   "source": [
    "from scipy import optimize"
   ]
  },
  {
   "cell_type": "markdown",
   "metadata": {},
   "source": [
    "Solution using a **constrained optimizer:**"
   ]
  },
  {
   "cell_type": "markdown",
   "metadata": {
    "tags": []
   },
   "source": [
    "see A7.py"
   ]
  },
  {
   "cell_type": "markdown",
   "metadata": {},
   "source": [
    "Solution using an **unconstrained optimizer:**"
   ]
  },
  {
   "cell_type": "markdown",
   "metadata": {
    "tags": []
   },
   "source": [
    "see A8.py"
   ]
  },
  {
   "cell_type": "markdown",
   "metadata": {},
   "source": [
    "# Extra Problems"
   ]
  },
  {
   "cell_type": "markdown",
   "metadata": {},
   "source": [
    "## Cost minimization"
   ]
  },
  {
   "cell_type": "markdown",
   "metadata": {},
   "source": [
    "Consider the following 2-good **cost minimziation problem** with required utility $u_0$, and price-vector $p=(p_1,p_2)$,\n",
    "\n",
    "$$\n",
    "\\begin{aligned}\n",
    "E(p_{1},p_{2},u_0) & = \\min_{x_{1},x_{2}} p_1 x_1+p_2 x_2\\\\\n",
    " & \\text{s.t.}\\\\\n",
    "x_{1}^{\\alpha}x_{2}^{1-\\alpha} & \\geq u_0 \\\\\n",
    "x_{1},x_{2} & \\geq 0\n",
    "\\end{aligned}\n",
    "$$"
   ]
  },
  {
   "cell_type": "markdown",
   "metadata": {},
   "source": [
    "**Problem:** Solve the 2-good cost-minimization problem with arbitrary required utility, prices and income. Present your results graphically showing that the optimum is a point, where a budgetline is targent to the indifference curve through $u_0$."
   ]
  },
  {
   "cell_type": "markdown",
   "metadata": {},
   "source": [
    "## Classy solution"
   ]
  },
  {
   "cell_type": "markdown",
   "metadata": {},
   "source": [
    "**Problem:** Implement your solution to the utility maximization problem and/or the cost minimization problem above in a class as seen in Lecture 3. "
   ]
  }
 ],
 "metadata": {
  "kernelspec": {
   "display_name": "Python 3 (ipykernel)",
   "language": "python",
   "name": "python3"
  },
  "language_info": {
   "codemirror_mode": {
    "name": "ipython",
    "version": 3
   },
   "file_extension": ".py",
   "mimetype": "text/x-python",
   "name": "python",
   "nbconvert_exporter": "python",
   "pygments_lexer": "ipython3",
   "version": "3.9.16"
  },
  "toc-autonumbering": true
 },
 "nbformat": 4,
 "nbformat_minor": 4
}
